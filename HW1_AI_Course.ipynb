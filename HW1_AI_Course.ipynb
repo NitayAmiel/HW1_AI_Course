{
  "nbformat": 4,
  "nbformat_minor": 0,
  "metadata": {
    "colab": {
      "provenance": [],
      "authorship_tag": "ABX9TyMu7ekd5CPeLCFXlX5nMrH0",
      "include_colab_link": true
    },
    "kernelspec": {
      "name": "python3",
      "display_name": "Python 3"
    },
    "language_info": {
      "name": "python"
    }
  },
  "cells": [
    {
      "cell_type": "markdown",
      "metadata": {
        "id": "view-in-github",
        "colab_type": "text"
      },
      "source": [
        "<a href=\"https://colab.research.google.com/github/NitayAmiel/HW1_AI_Course/blob/main/HW1_AI_Course.ipynb\" target=\"_parent\"><img src=\"https://colab.research.google.com/assets/colab-badge.svg\" alt=\"Open In Colab\"/></a>"
      ]
    },
    {
      "cell_type": "markdown",
      "source": [
        "## Chat GPT prompt\n"
      ],
      "metadata": {
        "id": "bd-SNlSF5MGe"
      }
    },
    {
      "cell_type": "markdown",
      "source": [
        "for following topic, i need you to write a code that is applied on a video(mp4 format) the aim is to detect a square that is brighter than the rest of the image, and marks it in a red frame that is putted on the square's edges, (without concealing the inner square). in summary, i need a function that receives as an input a mp4 video(the assumptions on the video is that, every frame in the video is in the form of entire bkack background, and brighter square somewhere in the image frame) and returns as an output a new mp4 video with a red frame that rounds the square."
      ],
      "metadata": {
        "id": "TvP8VDp_49b2"
      }
    },
    {
      "cell_type": "code",
      "source": [
        "import cv2\n",
        "import numpy as np\n",
        "\n",
        "def detect_and_mark_square(input_video_path, output_video_path):\n",
        "    # Open the video capture\n",
        "    cap = cv2.VideoCapture(input_video_path)\n",
        "\n",
        "    # Get video properties\n",
        "    fps = int(cap.get(cv2.CAP_PROP_FPS))\n",
        "    width = int(cap.get(cv2.CAP_PROP_FRAME_WIDTH))\n",
        "    height = int(cap.get(cv2.CAP_PROP_FRAME_HEIGHT))\n",
        "\n",
        "    # Create a VideoWriter object for the output video\n",
        "    fourcc = cv2.VideoWriter_fourcc(*'mp4v')\n",
        "    out = cv2.VideoWriter(output_video_path, fourcc, fps, (width, height))\n",
        "\n",
        "    while True:\n",
        "        ret, frame = cap.read()\n",
        "\n",
        "        # Break the loop if the video has ended\n",
        "        if not ret:\n",
        "            break\n",
        "\n",
        "        # Convert the frame to grayscale\n",
        "        gray = cv2.cvtColor(frame, cv2.COLOR_BGR2GRAY)\n",
        "\n",
        "        # Threshold the frame to create a binary image\n",
        "        _, binary = cv2.threshold(gray, 50, 255, cv2.THRESH_BINARY)\n",
        "\n",
        "        # Find contours in the binary image\n",
        "        contours, _ = cv2.findContours(binary, cv2.RETR_EXTERNAL, cv2.CHAIN_APPROX_SIMPLE)\n",
        "\n",
        "        # Iterate through contours and find the largest one\n",
        "        max_contour = max(contours, key=cv2.contourArea)\n",
        "\n",
        "        # Get the bounding rectangle of the largest contour\n",
        "        x, y, w, h = cv2.boundingRect(max_contour)\n",
        "\n",
        "        #printing the center of the square (Added by me N.A)\n",
        "        print((x+(w//2), y+(h//2)))\n",
        "\n",
        "        # Draw a red frame around the detected square\n",
        "        cv2.rectangle(frame, (x, y), (x + w, y + h), (0, 0, 255), 2)\n",
        "\n",
        "        # Write the frame to the output video\n",
        "        out.write(frame)\n",
        "\n",
        "    # Release video capture and writer\n",
        "    cap.release()\n",
        "    out.release()\n",
        "\n",
        "# Example usage\n",
        "input_video_path = '/content/test_videos/test_case_1.mp4'\n",
        "output_video_path = '/content/test_videos/output_test_case_1_with_printing.mp4'\n",
        "detect_and_mark_square(input_video_path, output_video_path)\n"
      ],
      "metadata": {
        "id": "3_Um1eCQjNIQ"
      },
      "execution_count": null,
      "outputs": []
    }
  ]
}