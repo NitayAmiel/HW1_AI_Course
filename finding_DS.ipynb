{
  "nbformat": 4,
  "nbformat_minor": 0,
  "metadata": {
    "colab": {
      "provenance": [],
      "authorship_tag": "ABX9TyNrKZfdotTdtCQFRV8Cf+jh",
      "include_colab_link": true
    },
    "kernelspec": {
      "name": "python3",
      "display_name": "Python 3"
    },
    "language_info": {
      "name": "python"
    }
  },
  "cells": [
    {
      "cell_type": "markdown",
      "metadata": {
        "id": "view-in-github",
        "colab_type": "text"
      },
      "source": [
        "<a href=\"https://colab.research.google.com/github/NitayAmiel/HW_AI_Course/blob/main/finding_DS.ipynb\" target=\"_parent\"><img src=\"https://colab.research.google.com/assets/colab-badge.svg\" alt=\"Open In Colab\"/></a>"
      ]
    },
    {
      "cell_type": "code",
      "execution_count": 4,
      "metadata": {
        "colab": {
          "base_uri": "https://localhost:8080/"
        },
        "id": "Dm__XqX3XDHu",
        "outputId": "93d98aea-8ffa-4130-8369-92ec03fc0a87"
      },
      "outputs": [
        {
          "output_type": "stream",
          "name": "stdout",
          "text": [
            "The remaining set contains a 3-dimensional pseudo-cube.\n"
          ]
        },
        {
          "output_type": "stream",
          "name": "stderr",
          "text": [
            "<ipython-input-4-8416d88175f1>:10: DeprecationWarning: Sampling from a set deprecated\n",
            "since Python 3.9 and will be removed in a subsequent version.\n",
            "  removed_set = set(random.sample(full_set, n))\n"
          ]
        }
      ],
      "source": [
        "import itertools\n",
        "import random\n",
        "\n",
        "def generate_hamming_set():\n",
        "    \"\"\"Generate the full set {0,1,2}^3.\"\"\"\n",
        "    return set(itertools.product([0, 1, 2], repeat=3))\n",
        "\n",
        "def remove_random_elements(full_set, n=7):\n",
        "    \"\"\"Randomly remove n elements from the set.\"\"\"\n",
        "    removed_set = set(random.sample(full_set, n))\n",
        "    reduced_set = full_set - removed_set\n",
        "    return reduced_set, removed_set\n",
        "\n",
        "def is_pseudo_cube(current_set, removed_set):\n",
        "    \"\"\"\n",
        "    Check if the remaining set contains any 3-dimensional pseudo-cube.\n",
        "    Step 1: Remove words where both neighbors (in any direction) were removed.\n",
        "    Step 2: Repeat step 1 until no more words can be removed.\n",
        "    Step 3: Return True if any words remain, False otherwise.\n",
        "    \"\"\"\n",
        "    def has_both_neighbors_removed(word):\n",
        "        \"\"\"\n",
        "        Check if a word has both neighbors removed in any index position.\n",
        "        \"\"\"\n",
        "        for i in range(3):\n",
        "            # Generate neighbors by flipping the i-th bit\n",
        "            neighbor1 = tuple(word[j] if j != i else (word[j] + 1) % 3 for j in range(3))\n",
        "            neighbor2 = tuple(word[j] if j != i else (word[j] + 2) % 3 for j in range(3))\n",
        "\n",
        "            if neighbor1 in removed_set and neighbor2 in removed_set:\n",
        "                return True\n",
        "        return False\n",
        "\n",
        "    # Step 1 and Step 2: Iteratively remove words with both neighbors removed\n",
        "    while True:\n",
        "        words_to_remove = {word for word in current_set if has_both_neighbors_removed(word)}\n",
        "        if not words_to_remove:\n",
        "            break  # No more words can be removed\n",
        "\n",
        "        current_set -= words_to_remove\n",
        "\n",
        "    # Step 3: Return True if there are remaining words, False otherwise\n",
        "    return len(current_set) > 0\n",
        "\n",
        "def main():\n",
        "    # Generate the full set {0,1,2}^3\n",
        "    full_set = generate_hamming_set()\n",
        "\n",
        "    # Randomly remove 7 elements\n",
        "    reduced_set, removed_set = remove_random_elements(full_set)\n",
        "\n",
        "    # Check if the remaining set contains any 3-dimensional pseudo-cube\n",
        "    contains_pseudo_cube = is_pseudo_cube(reduced_set, removed_set)\n",
        "\n",
        "    if contains_pseudo_cube:\n",
        "        print(\"The remaining set contains a 3-dimensional pseudo-cube.\")\n",
        "    else:\n",
        "        print(\"The remaining set does NOT contain a 3-dimensional pseudo-cube.\")\n",
        "\n",
        "if __name__ == \"__main__\":\n",
        "    main()\n"
      ]
    },
    {
      "cell_type": "code",
      "source": [
        "import itertools\n",
        "\n",
        "def generate_hamming_set(n,m):\n",
        "    \"\"\"Generate the full set {0,1,2}^3.\"\"\"\n",
        "    return set(itertools.product(range(n), repeat=m))\n",
        "\n",
        "def is_pseudo_cube(current_set, removed_set, removed_set2):\n",
        "    \"\"\"\n",
        "    Check if the remaining set contains any 3-dimensional pseudo-cube.\n",
        "    Step 1: Remove words where both neighbors (in any direction) were removed.\n",
        "    Step 2: Repeat step 1 until no more words can be removed.\n",
        "    Step 3: Return True if any words remain, False otherwise.\n",
        "    \"\"\"\n",
        "    def has_both_neighbors_removed(word):\n",
        "        \"\"\"\n",
        "        Check if a word has both neighbors removed in any index position.\n",
        "        \"\"\"\n",
        "        len1 = len(word)\n",
        "        for i in range(len1):\n",
        "            # Generate neighbors by flipping the i-th bit\n",
        "            neighbor1 = tuple(word[j] if j != i else (word[j] + 1) % 3 for j in range(len1))\n",
        "            neighbor2 = tuple(word[j] if j != i else (word[j] + 2) % 3 for j in range(len1))\n",
        "\n",
        "            if neighbor1 in removed_set and neighbor2 in removed_set:\n",
        "                return True\n",
        "        return False\n",
        "\n",
        "    # Step 1 and Step 2: Iteratively remove words with both neighbors removed\n",
        "    while True:\n",
        "        words_to_remove = {word for word in current_set if has_both_neighbors_removed(word)}\n",
        "        if not words_to_remove:\n",
        "            break  # No more words can be removed\n",
        "\n",
        "        # Move the words to be removed from the current set to the removed set\n",
        "        current_set -= words_to_remove\n",
        "        removed_set |= words_to_remove\n",
        "\n",
        "    # Print the remaining set if there are any words left\n",
        "    if len(current_set) == 0:\n",
        "        print(\"Remaining set after step 1 is not effective anymore:\")\n",
        "        print(removed_set2)\n",
        "\n",
        "    # Step 3: Return True if there are remaining words, False otherwise\n",
        "    return len(current_set) > 0\n",
        "\n",
        "def main():\n",
        "    # Generate the full set {0,1,2}^3\n",
        "    full_set = generate_hamming_set(3,4)\n",
        "\n",
        "    # Iterate over all possible subsets of size 7\n",
        "    for removed_set in itertools.combinations(full_set, 15):\n",
        "        removed_set = set(removed_set)\n",
        "        reduced_set = full_set - removed_set\n",
        "\n",
        "        # Check if the remaining set contains any 3-dimensional pseudo-cube\n",
        "        is_pseudo_cube(reduced_set, removed_set, removed_set2=removed_set)\n",
        "\n",
        "if __name__ == \"__main__\":\n",
        "    main()\n"
      ],
      "metadata": {
        "id": "gbtfyNKTiFxC"
      },
      "execution_count": null,
      "outputs": []
    },
    {
      "cell_type": "code",
      "source": [
        "import itertools"
      ],
      "metadata": {
        "id": "xqQKdwyUXUDz"
      },
      "execution_count": 2,
      "outputs": []
    }
  ]
}